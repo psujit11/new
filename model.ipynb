{
 "cells": [
  {
   "cell_type": "code",
   "execution_count": 2,
   "metadata": {},
   "outputs": [],
   "source": [
    "import numpy as np\n",
    "import pandas as pd\n"
   ]
  },
  {
   "cell_type": "code",
   "execution_count": 8,
   "metadata": {},
   "outputs": [],
   "source": [
    "import re"
   ]
  },
  {
   "cell_type": "code",
   "execution_count": 9,
   "metadata": {},
   "outputs": [],
   "source": [
    "def feature_engineering(df, sparse=0): \n",
    "    \n",
    "    # Comment length\n",
    "    df['length'] = df.comment_text.apply(lambda x: len(x))\n",
    "    \n",
    "\n",
    "    # Capitalization percentage\n",
    "    def pct_caps(s):\n",
    "        return sum([1 for c in s if c.isupper()]) / (sum(([1 for c in s if c.isalpha()])) + 1)\n",
    "    df['caps'] = df.comment_text.apply(lambda x: pct_caps(x))\n",
    "\n",
    "    # Mean Word length \n",
    "    def word_length(s):\n",
    "        s = s.split(' ')\n",
    "        return np.mean([len(w) for w in s if w.isalpha()])\n",
    "    df['word_length'] = df.comment_text.apply(lambda x: word_length(x))\n",
    "\n",
    "    # Average number of exclamation points \n",
    "    df['exclamation'] = df.comment_text.apply(lambda s: len([c for c in s if c == '!']))\n",
    "\n",
    "    # Average number of question marks \n",
    "    df['question'] = df.comment_text.apply(lambda s: len([c for c in s if c == '?']))\n",
    "    \n",
    "    # Normalize\n",
    "    for label in ['length', 'caps', 'word_length', 'question', 'exclamation']:\n",
    "        minimum = df[label].min()\n",
    "        diff = df[label].max() - minimum\n",
    "        df[label] = df[label].apply(lambda x: (x-minimum) / (diff))\n",
    "\n",
    "    # Strip IP Addresses\n",
    "    ip = re.compile('(([2][5][0-5]\\.)|([2][0-4][0-9]\\.)|([0-1]?[0-9]?[0-9]\\.)){3}'\n",
    "                    +'(([2][5][0-5])|([2][0-4][0-9])|([0-1]?[0-9]?[0-9]))')\n",
    "    def strip_ip(s, ip):\n",
    "        try:\n",
    "            found = ip.search(s)\n",
    "            return s.replace(found.group(), ' ')\n",
    "        except:\n",
    "            return s\n",
    "\n",
    "    df.comment_text = df.comment_text.apply(lambda x: strip_ip(x, ip))\n",
    "    \n",
    "    return df\n",
    "\n",
    "def merge_features(comment_text, data, engineered_features):\n",
    "    new_features = sparse.csr_matrix(df[engineered_features].values)\n",
    "    if np.isnan(new_features.data).any():\n",
    "        new_features.data = np.nan_to_num(new_features.data)\n",
    "    return sparse.hstack([comment_text, new_features])"
   ]
  },
  {
   "cell_type": "code",
   "execution_count": 10,
   "metadata": {},
   "outputs": [
    {
     "name": "stderr",
     "output_type": "stream",
     "text": [
      "c:\\Fyp\\fypenv\\Lib\\site-packages\\numpy\\core\\fromnumeric.py:3504: RuntimeWarning: Mean of empty slice.\n",
      "  return _methods._mean(a, axis=axis, dtype=dtype,\n",
      "c:\\Fyp\\fypenv\\Lib\\site-packages\\numpy\\core\\_methods.py:129: RuntimeWarning: invalid value encountered in scalar divide\n",
      "  ret = ret.dtype.type(ret / rcount)\n",
      "c:\\Fyp\\fypenv\\Lib\\site-packages\\numpy\\core\\fromnumeric.py:3504: RuntimeWarning: Mean of empty slice.\n",
      "  return _methods._mean(a, axis=axis, dtype=dtype,\n",
      "c:\\Fyp\\fypenv\\Lib\\site-packages\\numpy\\core\\_methods.py:129: RuntimeWarning: invalid value encountered in scalar divide\n",
      "  ret = ret.dtype.type(ret / rcount)\n"
     ]
    },
    {
     "name": "stdout",
     "output_type": "stream",
     "text": [
      "Training labels:\n",
      "['toxic', 'severe_toxic', 'obscene', 'threat', 'insult', 'identity_hate']\n",
      "(159571, 6)\n",
      "\n",
      "Training data\n",
      "['comment_text', 'length', 'caps', 'word_length', 'exclamation', 'question']\n",
      "(159571, 6)\n",
      "\n",
      "Submission data\n",
      "['comment_text', 'length', 'caps', 'word_length', 'exclamation', 'question']\n",
      "(153164, 6)\n",
      "['length', 'caps', 'word_length', 'exclamation', 'question']\n"
     ]
    }
   ],
   "source": [
    "\n",
    "df = pd.read_csv('./fypenv/dataset/train.csv')\n",
    "targets = list(df.columns[2:])\n",
    "df_targets = df[targets].copy()\n",
    "\n",
    "df_sub = pd.read_csv('./fypenv/dataset/test.csv', dtype={'id': object}, na_filter=False)\n",
    "\n",
    "submission = pd.DataFrame()\n",
    "submission['id'] = df_sub.id.copy()\n",
    "\n",
    "# Feature Engineering\n",
    "df = feature_engineering(df)\n",
    "df_sub = feature_engineering(df_sub)\n",
    "\n",
    "print('Training labels:')\n",
    "print(list(df_targets.columns))\n",
    "print(df_targets.shape)\n",
    "\n",
    "print('\\nTraining data')\n",
    "df.drop(list(df_targets.columns), inplace=True, axis=1)\n",
    "df.drop('id', inplace=True, axis=1)\n",
    "print(list(df.columns))\n",
    "print(df.shape)\n",
    "\n",
    "\n",
    "print('\\nSubmission data')\n",
    "df_sub.drop('id', inplace=True, axis=1)\n",
    "print(list(df_sub.columns))\n",
    "print(df_sub.shape)\n",
    "\n",
    "toxic_rows = df_targets.sum(axis=1)\n",
    "toxic_rows = (toxic_rows > 0)\n",
    "targets.append('any_label')\n",
    "df_targets['any_label'] = toxic_rows.astype(int)\n",
    "\n",
    "new_features = list(df.columns[1:])\n",
    "print(new_features)\n",
    "\n",
    "# from sklearn.model_selection import train_test_split\n",
    "# df, holdout, df_targets, holdout_targets = train_test_split(df, df_targets, test_size=0.2, random_state=seed)"
   ]
  },
  {
   "cell_type": "code",
   "execution_count": 12,
   "metadata": {},
   "outputs": [],
   "source": [
    "from sklearn.feature_extraction.text import TfidfVectorizer"
   ]
  },
  {
   "cell_type": "code",
   "execution_count": 14,
   "metadata": {},
   "outputs": [],
   "source": [
    "comment_vector = TfidfVectorizer(max_features=10000, analyzer='word', #ngram_range=(2, 6), \n",
    "                                 stop_words='english')\n",
    "training_comments = comment_vector.fit_transform(df.comment_text)\n",
    "# holdout_comments = comment_vector.transform(holdout.comment_text)\n",
    "submission_comments = comment_vector.transform(df_sub.comment_text)"
   ]
  },
  {
   "cell_type": "code",
   "execution_count": 21,
   "metadata": {},
   "outputs": [
    {
     "data": {
      "text/plain": [
       "<159571x10000 sparse matrix of type '<class 'numpy.float64'>'\n",
       "\twith 3495379 stored elements in Compressed Sparse Row format>"
      ]
     },
     "execution_count": 21,
     "metadata": {},
     "output_type": "execute_result"
    }
   ],
   "source": [
    "training_comments\n",
    "\n"
   ]
  },
  {
   "cell_type": "code",
   "execution_count": 20,
   "metadata": {},
   "outputs": [
    {
     "data": {
      "text/plain": [
       "<153164x10000 sparse matrix of type '<class 'numpy.float64'>'\n",
       "\twith 2929468 stored elements in Compressed Sparse Row format>"
      ]
     },
     "execution_count": 20,
     "metadata": {},
     "output_type": "execute_result"
    }
   ],
   "source": [
    "submission_comments"
   ]
  }
 ],
 "metadata": {
  "kernelspec": {
   "display_name": "fypenv",
   "language": "python",
   "name": "python3"
  },
  "language_info": {
   "codemirror_mode": {
    "name": "ipython",
    "version": 3
   },
   "file_extension": ".py",
   "mimetype": "text/x-python",
   "name": "python",
   "nbconvert_exporter": "python",
   "pygments_lexer": "ipython3",
   "version": "3.11.0"
  }
 },
 "nbformat": 4,
 "nbformat_minor": 2
}
